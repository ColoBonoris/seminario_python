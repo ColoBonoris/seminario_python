{
 "cells": [
  {
   "cell_type": "markdown",
   "id": "237e7487",
   "metadata": {},
   "source": [
    "   # Seminario Python: Entrega Práctica 2\n",
    "   ### Nicolás Bonoris"
   ]
  },
  {
   "cell_type": "markdown",
   "id": "6dbede26",
   "metadata": {},
   "source": [
    "### \n",
    "##### * Se desarrolla paso a paso el ejercicio 10 de la práctica 2, cumpliendo con las consignas pedidas para la entrega\n",
    "### "
   ]
  },
  {
   "cell_type": "markdown",
   "id": "57cf4de1",
   "metadata": {},
   "source": [
    "   ### Importamos los módulos necesarios:"
   ]
  },
  {
   "cell_type": "code",
   "execution_count": 1,
   "id": "bddf751c",
   "metadata": {},
   "outputs": [],
   "source": [
    "import string"
   ]
  },
  {
   "cell_type": "markdown",
   "id": "5c172936",
   "metadata": {},
   "source": [
    "   ### Definimos las funciones que vamos a ir utilizando:"
   ]
  },
  {
   "cell_type": "code",
   "execution_count": 2,
   "id": "d9da5d46",
   "metadata": {},
   "outputs": [],
   "source": [
    "def filtrar_lista_nombres(nombres):\n",
    "    \"\"\"\n",
    "        Toma una lista de nombres y borra todos los caracteres\n",
    "        que no sean letras. Mantiene mayúsculas y tildes.\n",
    "    \"\"\"\n",
    "    for pos_nom in range(0,len(nombres)):\n",
    "        for c in nombres[pos_nom]:\n",
    "            if c not in (string.ascii_letters + (\"ñáéíóúÑÁÉÍÓÚ\")):\n",
    "                nombres[pos_nom] = nombres[pos_nom].replace(c,\"\")"
   ]
  },
  {
   "cell_type": "code",
   "execution_count": 3,
   "id": "b1984e58",
   "metadata": {},
   "outputs": [],
   "source": [
    "def filtrar_lista_notas(notas):\n",
    "    \"\"\"\n",
    "        Toma una lista de notas y borra todos los caracteres\n",
    "        que no sean numeros. Luego hace la conversión a int.\n",
    "    \"\"\"\n",
    "    for pos_nota in range(0,len(notas)):\n",
    "        for c in notas[pos_nota]:\n",
    "            if c not in string.digits:\n",
    "                notas[pos_nota] = notas[pos_nota].replace(c,\"\")\n",
    "        notas[pos_nota] = int(notas[pos_nota])"
   ]
  },
  {
   "cell_type": "code",
   "execution_count": 4,
   "id": "bc71a8b7",
   "metadata": {},
   "outputs": [],
   "source": [
    "def imprimir_diccionario(dicc):\n",
    "    \"\"\"\n",
    "        Imprime un diccionario (asumimos que es de alumnos por simplicidad)\n",
    "    \"\"\"\n",
    "    print(\"\\nAlumnos:\\n\")\n",
    "    for i in dicc:\n",
    "        print(f\"    {i}, {dicc[i]}.\")"
   ]
  },
  {
   "cell_type": "markdown",
   "id": "472c7da7",
   "metadata": {},
   "source": [
    "   ### Abrimos los archivos:"
   ]
  },
  {
   "cell_type": "code",
   "execution_count": 5,
   "id": "ebd6c081",
   "metadata": {},
   "outputs": [],
   "source": [
    "notas_0 = open(\"eval1.txt\",\"r\",encoding=\"utf8\")\n",
    "notas_1 = open(\"eval2.txt\",\"r\",encoding=\"utf8\")\n",
    "nombres = open(\"nombres_1.txt\",\"r\",encoding=\"utf8\")"
   ]
  },
  {
   "cell_type": "markdown",
   "id": "cb366230",
   "metadata": {},
   "source": [
    "   ### Leemos los archivos:"
   ]
  },
  {
   "cell_type": "code",
   "execution_count": 6,
   "id": "e5fb5a2e",
   "metadata": {},
   "outputs": [],
   "source": [
    "notas_0 = notas_0.read()\n",
    "notas_1 = notas_1.read()\n",
    "nombres = nombres.read()"
   ]
  },
  {
   "cell_type": "markdown",
   "id": "52849c05",
   "metadata": {},
   "source": [
    "   ### Separamos por alumno:"
   ]
  },
  {
   "cell_type": "code",
   "execution_count": 7,
   "id": "22c5aec3",
   "metadata": {},
   "outputs": [],
   "source": [
    "notas_0 = notas_0.split(\",\\n\")\n",
    "notas_1 = notas_1.split(\",\\n\")\n",
    "nombres = nombres.split(\",\\n\")"
   ]
  },
  {
   "cell_type": "markdown",
   "id": "9fb7b0de",
   "metadata": {},
   "source": [
    "   ### Filtramos los caracteres:"
   ]
  },
  {
   "cell_type": "code",
   "execution_count": 8,
   "id": "b74243bf",
   "metadata": {},
   "outputs": [],
   "source": [
    "filtrar_lista_notas(notas_0)\n",
    "filtrar_lista_notas(notas_1)\n",
    "filtrar_lista_nombres(nombres)"
   ]
  },
  {
   "cell_type": "markdown",
   "id": "01b2f3a1",
   "metadata": {},
   "source": [
    "   ### Creamos una lista con las notas sumadas:"
   ]
  },
  {
   "cell_type": "code",
   "execution_count": 9,
   "id": "7c7ac1ad",
   "metadata": {},
   "outputs": [],
   "source": [
    "merge_notas = []\n",
    "for i in range(0,len(notas_0)):\n",
    "    merge_notas.append(notas_0[i] + notas_1[i])"
   ]
  },
  {
   "cell_type": "markdown",
   "id": "a900d745",
   "metadata": {},
   "source": [
    "   ### Creamos el diccionario (clave alumno : valor nota):"
   ]
  },
  {
   "cell_type": "code",
   "execution_count": 10,
   "id": "e6363340",
   "metadata": {},
   "outputs": [
    {
     "name": "stdout",
     "output_type": "stream",
     "text": [
      "\n",
      "Alumnos:\n",
      "\n",
      "    Agustin, 111.\n",
      "    Alan, 155.\n",
      "    Andrés, 100.\n",
      "    Ariadna, 108.\n",
      "    Bautista, 99.\n",
      "    CAROLINA, 134.\n",
      "    CESAR, 78.\n",
      "    David, 121.\n",
      "    Diego, 33.\n",
      "    Dolores, 53.\n",
      "    DYLAN, 74.\n",
      "    ELIANA, 13.\n",
      "    Emanuel, 48.\n",
      "    Fabián, 101.\n",
      "    Facundo, 128.\n",
      "    FEDERICO, 106.\n",
      "    GONZALO, 76.\n",
      "    Gregorio, 90.\n",
      "    Ignacio, 21.\n",
      "    Jonathan, 62.\n",
      "    Jorge, 79.\n",
      "    JOSE, 100.\n",
      "    JUAN, 68.\n",
      "    Juan, 112.\n",
      "    Julian, 87.\n",
      "    Julieta, 146.\n",
      "    LAUTARO, 148.\n",
      "    Leonel, 55.\n",
      "    LUIS, 140.\n",
      "    Luis, 109.\n",
      "    Marcos, 103.\n",
      "    María, 110.\n",
      "    MATEO, 137.\n",
      "    Matias, 114.\n",
      "    Nicolás, 65.\n",
      "    NICOLÁS, 22.\n",
      "    Noelia, 105.\n",
      "    Pablo, 99.\n",
      "    Priscila, 24.\n",
      "    TOMAS, 139.\n",
      "    Tomás, 126.\n",
      "    Ulises, 120.\n",
      "    Yanina, 84.\n"
     ]
    }
   ],
   "source": [
    "dicc_alumnos = {}\n",
    "for i in range(0,len(nombres)):\n",
    "    dicc_alumnos[nombres[i]] = merge_notas[i]\n",
    "imprimir_diccionario(dicc_alumnos)"
   ]
  },
  {
   "cell_type": "markdown",
   "id": "eff09c4b",
   "metadata": {},
   "source": [
    "   ### Calculamos el promedio de todas las notas:"
   ]
  },
  {
   "cell_type": "code",
   "execution_count": 11,
   "id": "2ca8bcfb",
   "metadata": {},
   "outputs": [
    {
     "name": "stdout",
     "output_type": "stream",
     "text": [
      "\n",
      "Promedio: 85.17021276595744.\n",
      "\n"
     ]
    }
   ],
   "source": [
    "if(len(nombres) > 0):\n",
    "    total_notas = 0\n",
    "    for i in dicc_alumnos:\n",
    "        total_notas += dicc_alumnos[i]\n",
    "    promedio = total_notas / len(nombres)\n",
    "else:\n",
    "    print(\"No se pudo sacar el promedio, no se cargaron alumnos!\")\n",
    "print(f\"\\nPromedio: {promedio}.\\n\")"
   ]
  },
  {
   "cell_type": "markdown",
   "id": "f42fa4be",
   "metadata": {},
   "source": [
    "   ### Informamos los alumnos con una nota menor al mismo:"
   ]
  },
  {
   "cell_type": "code",
   "execution_count": 12,
   "id": "60751dea",
   "metadata": {
    "scrolled": true
   },
   "outputs": [
    {
     "name": "stdout",
     "output_type": "stream",
     "text": [
      "\n",
      "Alumnos por debajo del promedio:\n",
      "\n",
      "    CESAR, 78.\n",
      "    Diego, 33.\n",
      "    Dolores, 53.\n",
      "    DYLAN, 74.\n",
      "    ELIANA, 13.\n",
      "    Emanuel, 48.\n",
      "    GONZALO, 76.\n",
      "    Ignacio, 21.\n",
      "    Jonathan, 62.\n",
      "    Jorge, 79.\n",
      "    JUAN, 68.\n",
      "    Leonel, 55.\n",
      "    Nicolás, 65.\n",
      "    NICOLÁS, 22.\n",
      "    Priscila, 24.\n",
      "    Yanina, 84.\n"
     ]
    }
   ],
   "source": [
    "print(\"\\nAlumnos por debajo del promedio:\\n\")\n",
    "for i in dicc_alumnos:\n",
    "    if(dicc_alumnos[i] < promedio):\n",
    "        print(f\"    {i}, {dicc_alumnos[i]}.\")"
   ]
  }
 ],
 "metadata": {
  "kernelspec": {
   "display_name": "Python 3 (ipykernel)",
   "language": "python",
   "name": "python3"
  },
  "language_info": {
   "codemirror_mode": {
    "name": "ipython",
    "version": 3
   },
   "file_extension": ".py",
   "mimetype": "text/x-python",
   "name": "python",
   "nbconvert_exporter": "python",
   "pygments_lexer": "ipython3",
   "version": "3.9.7"
  }
 },
 "nbformat": 4,
 "nbformat_minor": 5
}
