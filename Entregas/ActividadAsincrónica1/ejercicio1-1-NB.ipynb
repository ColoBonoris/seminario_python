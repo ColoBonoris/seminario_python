{
 "cells": [
  {
   "cell_type": "markdown",
   "id": "b015a19f",
   "metadata": {},
   "source": [
    "# Actividad 1 por Python plus\n"
   ]
  },
  {
   "cell_type": "markdown",
   "id": "b0d0ad1d",
   "metadata": {},
   "source": [
    "## Parte I: resolvé el siguiente desafío:"
   ]
  },
  {
   "cell_type": "markdown",
   "id": "4befc6c3",
   "metadata": {},
   "source": [
    "EJERCICIO 9: dado el archivo denominado [BBB_nuevo.csv](https://archivos.linti.unlp.edu.ar/index.php/s/q9b3rCrlhOS1yWU) que contiene los accesos al recurso BigBlueButton que usamos para las clases virtuales de la materia, se desea generar una archivo con todos aquellos usuarios que visualizaron la grabación el día 6 de abril."
   ]
  },
  {
   "cell_type": "code",
   "execution_count": 1,
   "id": "5021bb7c",
   "metadata": {},
   "outputs": [],
   "source": [
    "#Solución\n",
    "\n",
    "# Se resuelve el ejercicio suponiendo que el archivo .csv se encuentra en la misma carpeta que el programa\n",
    "\n",
    "import csv\n",
    "import os\n",
    "\n",
    "# Se usan las direcciones con os.path para simplificar luego la implementación si se mueven los archivos, pero no es necesario\n",
    "dir = os.path.realpath(\".\")\n",
    "dir_BBB = os.path.join(dir,\"BBB_nuevo.csv\")\n",
    "dir_present = os.path.join(dir,\"presentes_abril_6.csv\")\n",
    "\n",
    "with open(dir_BBB,\"r\",encoding=\"utf8\") as bbb_file:\n",
    "    bbb_reader = csv.reader(bbb_file, delimiter=\",\")\n",
    "    header = next(bbb_reader)\n",
    "    with open(dir_present,\"w\",encoding=\"utf8\",newline=\"\") as present_file:\n",
    "        present_writer = csv.writer(present_file)\n",
    "        present_writer.writerows(map(lambda y: [y[1]], filter(lambda x: (\"6/04/2022\" in x[0]) and (x[2] == \"Grabación vista\"),bbb_reader)))"
   ]
  }
 ],
 "metadata": {
  "kernelspec": {
   "display_name": "Python 3 (ipykernel)",
   "language": "python",
   "name": "python3"
  },
  "language_info": {
   "codemirror_mode": {
    "name": "ipython",
    "version": 3
   },
   "file_extension": ".py",
   "mimetype": "text/x-python",
   "name": "python",
   "nbconvert_exporter": "python",
   "pygments_lexer": "ipython3",
   "version": "3.10.4"
  }
 },
 "nbformat": 4,
 "nbformat_minor": 5
}
