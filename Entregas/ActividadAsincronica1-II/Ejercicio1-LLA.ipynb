{
 "cells": [
  {
   "cell_type": "markdown",
   "id": "b015a19f",
   "metadata": {},
   "source": [
    "# Actividad 1 por Python plus\n"
   ]
  },
  {
   "cell_type": "markdown",
   "id": "b0d0ad1d",
   "metadata": {},
   "source": [
    "## Parte I: resolvé el siguiente desafío:"
   ]
  },
  {
   "cell_type": "markdown",
   "id": "09be642c",
   "metadata": {},
   "source": [
    "EJERCICIO 13: dado el archivo denominado [TOTAL_nuevo.csv](https://archivos.linti.unlp.edu.ar/index.php/s/7zTP1JtN2KKTqYu) que contiene la actividad realizada en las clases  de la materia a través de catedras.linti, se desea imprimir los tres usuarios con mayor actividad en el curso. "
   ]
  },
  {
   "cell_type": "code",
   "execution_count": 2,
   "id": "5021bb7c",
   "metadata": {},
   "outputs": [
    {
     "name": "stdout",
     "output_type": "stream",
     "text": [
      "Los 3 usuarios con mas actividad son:\n",
      "EXTERNO con 2052 participaciones\n",
      "Jynx con 1751 participaciones\n",
      "Zubat con 1599 participaciones\n"
     ]
    }
   ],
   "source": [
    "#Solución\n",
    "from collections import Counter\n",
    "import csv\n",
    "\n",
    "#primero que nada abro el archivo y lo separo por ,\n",
    "archivo = open ('TOTAL_nuevo.csv', 'r')\n",
    "delimitado = csv.reader(archivo, delimiter = ',')\n",
    "\n",
    "# luego realizo una funcion que me devuelve todos los nombres de los usuarios que realizaron las participaciones\n",
    "usuarios = map(lambda fila:fila[1] , delimitado)\n",
    "\n",
    "#gracias a la funcion anterior cuento cuantas veces aparece cada usuario y me quedo con los 3 que mas participaron\n",
    "tres_usuarios_mas_activos = Counter(usuarios).most_common(3)\n",
    "\n",
    "# cierro el archivo por que ya no lo voy a usar\n",
    "archivo.close()\n",
    "\n",
    "#por ultimo imprimo de una manera mas visual los resultados\n",
    "print ('Los 3 usuarios con mas actividad son:')\n",
    "for i in tres_usuarios_mas_activos:\n",
    "    print (f'{i[0]} con {i[1]} participaciones' )\n",
    "    "
   ]
  }
 ],
 "metadata": {
  "kernelspec": {
   "display_name": "Python 3 (ipykernel)",
   "language": "python",
   "name": "python3"
  },
  "language_info": {
   "codemirror_mode": {
    "name": "ipython",
    "version": 3
   },
   "file_extension": ".py",
   "mimetype": "text/x-python",
   "name": "python",
   "nbconvert_exporter": "python",
   "pygments_lexer": "ipython3",
   "version": "3.10.4"
  }
 },
 "nbformat": 4,
 "nbformat_minor": 5
}
