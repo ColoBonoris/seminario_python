{
 "cells": [
  {
   "cell_type": "markdown",
   "id": "14df4a10",
   "metadata": {},
   "source": [
    "# Actividad 1 por Python plus\n"
   ]
  },
  {
   "cell_type": "markdown",
   "id": "eb80dfd8",
   "metadata": {},
   "source": [
    "## Parte I\n",
    "\n",
    "### Solución propuesta por tu compañero/a\n"
   ]
  },
  {
   "cell_type": "markdown",
   "id": "b2c22533",
   "metadata": {},
   "source": [
    "EJERCICIO 13: dado el archivo denominado [TOTAL_nuevo.csv](https://archivos.linti.unlp.edu.ar/index.php/s/7zTP1JtN2KKTqYu) que contiene la actividad realizada en las clases  de la materia a través de catedras.linti, se desea imprimir los tres usuarios con mayor actividad en el curso. \n",
    "\n",
    "URL: https://drive.google.com/file/d/1VKqfi7rsEJ3cmJm1HtY3sJsoysRDkfvT/view"
   ]
  },
  {
   "cell_type": "code",
   "execution_count": 14,
   "id": "ced69cb2",
   "metadata": {
    "scrolled": true
   },
   "outputs": [
    {
     "name": "stdout",
     "output_type": "stream",
     "text": [
      "Los 3 usuarios con mas actividad son:\n",
      "EXTERNO con 2052 participaciones\n",
      "Jynx con 1751 participaciones\n",
      "Zubat con 1599 participaciones\n"
     ]
    }
   ],
   "source": [
    "#Solución\n",
    "from collections import Counter\n",
    "import csv\n",
    "\n",
    "#primero que nada abro el archivo y lo separo por ,\n",
    "archivo = open ('TOTAL_nuevo.csv', 'r')\n",
    "delimitado = csv.reader(archivo, delimiter = ',')\n",
    "\n",
    "# luego realizo una funcion que me devuelve todos los nombres de los usuarios que realizaron las participaciones\n",
    "usuarios = map(lambda fila:fila[1] , delimitado)\n",
    "\n",
    "#gracias a la funcion anterior cuento cuantas veces aparece cada usuario y me quedo con los 3 que mas participaron\n",
    "tres_usuarios_mas_activos = Counter(usuarios).most_common(3)\n",
    "\n",
    "# cierro el archivo por que ya no lo voy a usar\n",
    "archivo.close()\n",
    "\n",
    "#por ultimo imprimo de una manera mas visual los resultados\n",
    "print ('Los 3 usuarios con mas actividad son:')\n",
    "for i in tres_usuarios_mas_activos:\n",
    "    print (f'{i[0]} con {i[1]} participaciones' )"
   ]
  },
  {
   "cell_type": "markdown",
   "id": "1eae6299",
   "metadata": {},
   "source": [
    "## Parte II "
   ]
  },
  {
   "cell_type": "markdown",
   "id": "4e9717da",
   "metadata": {},
   "source": [
    "### Calificá de acuerdo a las siguientes pautas:"
   ]
  },
  {
   "cell_type": "code",
   "execution_count": 15,
   "id": "2762a6c2",
   "metadata": {
    "scrolled": true
   },
   "outputs": [],
   "source": [
    "# Puntos acumulados del trabajo de mi conpañero/a\n",
    "puntos_parte_I = 0"
   ]
  },
  {
   "cell_type": "markdown",
   "id": "fb152d91",
   "metadata": {},
   "source": [
    "1.- **¿El algoritmo para el procesamiento de datos es correcto?:** +5 puntos\n",
    "\n",
    "- Suma 5 puntos si, inpendientemente si define una función o guarda los datos en un archivo como lo pide el enunciado.\n"
   ]
  },
  {
   "cell_type": "code",
   "execution_count": 3,
   "id": "00a9cdca",
   "metadata": {
    "scrolled": true
   },
   "outputs": [],
   "source": [
    "# puntos a sumar de esta consigna:\n",
    "\n",
    "puntos_parte_I += 5\n",
    "\n",
    "# El enunciado no le pide que genere un archivo ni que defina una función."
   ]
  },
  {
   "cell_type": "markdown",
   "id": "43ba367c",
   "metadata": {},
   "source": [
    "2.-**¿Define la función o genera el archivo de acuerdo a lo pedido??**: +10 puntos\n",
    "\n",
    "- Suma 5 puntos: si lo hace pero presenta algún error.\n",
    "\n",
    "- Suma 10 puntos: si está correcto"
   ]
  },
  {
   "cell_type": "code",
   "execution_count": 4,
   "id": "e3963e5d",
   "metadata": {
    "scrolled": true
   },
   "outputs": [],
   "source": [
    "# puntos a sumar de esta consigna:\n",
    "\n",
    "puntos_parte_I += 10\n",
    "\n",
    "# Cumple bien con la consigna, no define función ni crea archivo porque no se lo pide."
   ]
  },
  {
   "cell_type": "markdown",
   "id": "e619052f",
   "metadata": {},
   "source": [
    "3.- **Sobre el acceso al archivo de datos:** -10  a 5 puntos\n",
    "\n",
    "- Descuento 5 puntos si lo abre utilizando una ruta absoluta (ejemplo: /home/archivo/archivo.csv)\n",
    "- Descuento 5 puntos si no se cierra el archivo.\n",
    "- Suma 5 puntos si usa adecuadamente la sentencia with."
   ]
  },
  {
   "cell_type": "code",
   "execution_count": 5,
   "id": "b55c9896",
   "metadata": {
    "scrolled": true
   },
   "outputs": [],
   "source": [
    "# puntos a sumar de esta consigna:\n",
    "\n",
    "puntos_parte_I += 0\n",
    "\n",
    "# cierra bien el archivo y no utiliza rutas absolutas (tal vez utilizando os.path estaría mejor).\n",
    "# No utiliza la sentencia with."
   ]
  },
  {
   "cell_type": "markdown",
   "id": "1670ee4b",
   "metadata": {},
   "source": [
    "4.- **Alguna otra falla o detalles que quieras marcar?**: - 5 puntos\n",
    "\n",
    "- Especificá cuál es el error que encontrás"
   ]
  },
  {
   "cell_type": "code",
   "execution_count": 6,
   "id": "1e985faa",
   "metadata": {
    "scrolled": true
   },
   "outputs": [],
   "source": [
    "# puntos a descontar de esta consigna:\n",
    "\n",
    "puntos_parte_I -= 5\n",
    "\n",
    "# No elimina el encabezado del .csv, 'Nombre completo del usuario' se tomará como un nombre y se tomará en cuenta por el algoritmo."
   ]
  },
  {
   "cell_type": "markdown",
   "id": "50b1c6fc",
   "metadata": {},
   "source": [
    "### Total de puntos de la actividad (parte I):"
   ]
  },
  {
   "cell_type": "code",
   "execution_count": 7,
   "id": "afbe1851",
   "metadata": {
    "scrolled": true
   },
   "outputs": [
    {
     "name": "stdout",
     "output_type": "stream",
     "text": [
      "Puntos actividad 1 - Parte I: 12\n"
     ]
    }
   ],
   "source": [
    "print(f\"Puntos actividad 1 - Parte I: {puntos_parte_I if puntos_parte_I >0 else 0}\")"
   ]
  },
  {
   "cell_type": "markdown",
   "id": "34aa40a5",
   "metadata": {},
   "source": [
    "### ¿Algo más que no fue considerado?"
   ]
  },
  {
   "cell_type": "markdown",
   "id": "1e1f3415",
   "metadata": {},
   "source": [
    "Hace muy bien la lógica de todo el programa, no tiene en cuenta el encabezado. Los unicos otros \"errores\" mínimos están en la falta de uso del \"with open(...) ...\" y tal vez en no usar \"os.path\" que lo haría un poco más reutilizable, legible y amigable a los cambios; de todas formas no tendría esto muy en cuenta para la corrección."
   ]
  },
  {
   "cell_type": "markdown",
   "id": "dc26afe2",
   "metadata": {},
   "source": [
    "## Parte II - Total 40 puntos"
   ]
  },
  {
   "cell_type": "code",
   "execution_count": 8,
   "id": "a397db33",
   "metadata": {
    "scrolled": true
   },
   "outputs": [],
   "source": [
    "# Puntos acumulados de mi parte II- A COMPLETAR POR LA CATEDRA\n",
    "puntos_parte_II = 0"
   ]
  },
  {
   "cell_type": "markdown",
   "id": "93b1dce8",
   "metadata": {},
   "source": [
    "### Corrección de la parte I de mi compañero/a: 10 puntos\n",
    "\n",
    "- Suma 10 puntos si la evaluación realizada es correcta.\n",
    "- Suma 5 puntos si la sección de arhivos está mal evaluada pero el resto es correcta.\n",
    "- Suma 5 puntos si la sección está bien evalauda pero el resto no. "
   ]
  },
  {
   "cell_type": "code",
   "execution_count": 9,
   "id": "8ebab756",
   "metadata": {
    "scrolled": true
   },
   "outputs": [],
   "source": [
    "# Sumo puntos de la sección - A COMPLETAR POR LA CATEDRA\n",
    "puntos_parte_II += 0"
   ]
  },
  {
   "cell_type": "markdown",
   "id": "b6836a8f",
   "metadata": {},
   "source": [
    "### Análisis de la  solución propuesta por mi compañero/a: 10 puntos"
   ]
  },
  {
   "cell_type": "markdown",
   "id": "3631026c",
   "metadata": {},
   "source": [
    "- **¿Qué estructuras de datos usa para recorrer los datos ingresados desde el archivo?** 3 puntos.\n",
    "\n",
    "Usa: lector csv para la lectura de los datos; iterador devuelto por map para leer todos los nombres; y el diccionario de Counter para leer los 3 usarios corres pondientes al máximo.\n",
    "\n",
    "- **¿Usa expresiones lambda, funciones map, filter, reduce lu otra similar? ¿Están correctamente definidas?** 2 puntos.\n",
    "\n",
    "Utiliza map y una función lambda para obtener el iterador con nombres, luego usa Counter para obtener los 3 usuarios requeridos. Las define y usa de una forma correcta y, hasta donde puedo apreciar con mi conocimiento, eficiente.\n",
    "\n",
    "- **Recorre el archivo más de lo necesario para resolver el ejercicio? Justificar!!** 5 puntos si justifica.\n",
    "\n",
    "No, lo recorre hasta donde puedo apreciar el mínimo de veces, 1. Después supongo que lógicamente Counter hace un recorrido de la lista con todos los nombres, pero es sólo un campo y ya no se usa el archivo completo.\n"
   ]
  },
  {
   "cell_type": "code",
   "execution_count": 10,
   "id": "d63dc7e9",
   "metadata": {
    "scrolled": true
   },
   "outputs": [],
   "source": [
    "# Sumo puntos de la sección - A COMPLETAR POR LA CATEDRA\n",
    "puntos_parte_II += 0"
   ]
  },
  {
   "cell_type": "markdown",
   "id": "29fdc855",
   "metadata": {},
   "source": [
    "### Escribí una solución alternativa a la planteada por tu compañero/a: 20 puntos\n",
    "Esta solución será evaluada de acuerdo a las mismas pautas establecidas en este cuaderno."
   ]
  },
  {
   "cell_type": "code",
   "execution_count": 11,
   "id": "9a1bc0dc",
   "metadata": {
    "scrolled": true
   },
   "outputs": [
    {
     "name": "stdout",
     "output_type": "stream",
     "text": [
      "EXTERNO: 2052 participaciones totales.\n",
      "Jynx: 1751 participaciones totales.\n",
      "Zubat: 1599 participaciones totales.\n"
     ]
    }
   ],
   "source": [
    "\"\"\"\n",
    "    Solución alternativa.\n",
    "    Mejora un poco el manejo del archivo y llega al mismo resultado de una forma diferente.\n",
    "    En las bases, de todas formas, es un tratamiento parecido de los datos, el cual seria bastante más\n",
    "    \"limpio\" utilizando las funciones de Counter.\n",
    "    Se asume que el archivo de datos se encuentra en el mismo directorio que el programa.\n",
    "\"\"\"\n",
    "import csv\n",
    "import os\n",
    "# Agrego el uso de os.path, si hay cambios en la direccion de destino del archivo es más fácil de modificar, y más adecuado\n",
    "dir = os.path.realpath(\".\")\n",
    "dir_csv = os.path.join(dir,\"TOTAL_nuevo.csv\")\n",
    "# Se hace el tratamiento de la imformación\n",
    "with open (dir_csv, 'r') as archivo:\n",
    "        csv_file = csv.reader(archivo, delimiter = ',')\n",
    "        header = next(csv_file)\n",
    "        # Obtenemos una lista con los nombres\n",
    "        usuarios = list(map(lambda fila: fila[1], csv_file))\n",
    "        # Se genera un diccionario nombre: apariciones\n",
    "        apariciones = {}\n",
    "        for i in set(usuarios):\n",
    "            apariciones[i] = 0\n",
    "        # Se calculan las apariciones de cada nombre\n",
    "        for i in usuarios:\n",
    "            apariciones[i] += 1\n",
    "        # Obtenemos los 3 maximos\n",
    "        maximos_actividad = []\n",
    "        copia_apariciones = apariciones.copy()\n",
    "        for i in range(3):\n",
    "            maximo = max(copia_apariciones, key=copia_apariciones.get)\n",
    "            maximos_actividad.append((maximo,copia_apariciones[maximo]))\n",
    "            del copia_apariciones[maximo]\n",
    "# Imprimimos los 3 valores obtenidos\n",
    "for i in maximos_actividad:\n",
    "    print (f'{i[0]}: {i[1]} participaciones totales.' )"
   ]
  },
  {
   "cell_type": "code",
   "execution_count": 12,
   "id": "b61dae7c",
   "metadata": {
    "scrolled": true
   },
   "outputs": [],
   "source": [
    "# Sumo puntos de la sección - A COMPLETAR POR LA CATEDRA\n",
    "puntos_parte_II += 0"
   ]
  },
  {
   "cell_type": "markdown",
   "id": "b0ba1701",
   "metadata": {},
   "source": [
    "### Total puntos de la actividad"
   ]
  },
  {
   "cell_type": "code",
   "execution_count": 13,
   "id": "8248b652",
   "metadata": {
    "scrolled": true
   },
   "outputs": [
    {
     "name": "stdout",
     "output_type": "stream",
     "text": [
      "Puntos actividad 1 - Parte II: 0\n"
     ]
    }
   ],
   "source": [
    "print(f\"Puntos actividad 1 - Parte II: {puntos_parte_II if puntos_parte_II >0 else 0}\")"
   ]
  }
 ],
 "metadata": {
  "kernelspec": {
   "display_name": "Python 3 (ipykernel)",
   "language": "python",
   "name": "python3"
  },
  "language_info": {
   "codemirror_mode": {
    "name": "ipython",
    "version": 3
   },
   "file_extension": ".py",
   "mimetype": "text/x-python",
   "name": "python",
   "nbconvert_exporter": "python",
   "pygments_lexer": "ipython3",
   "version": "3.10.4"
  }
 },
 "nbformat": 4,
 "nbformat_minor": 5
}
